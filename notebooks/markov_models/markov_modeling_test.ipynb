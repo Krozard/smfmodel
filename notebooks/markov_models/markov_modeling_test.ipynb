{
 "cells": [
  {
   "cell_type": "code",
   "execution_count": 1,
   "id": "c4b44494",
   "metadata": {},
   "outputs": [],
   "source": [
    "import numpy as np\n",
    "import anndata as ad\n",
    "import scanpy as sc\n",
    "import smfmodel as smm\n",
    "import warnings\n",
    "warnings.filterwarnings(\"ignore\", category=FutureWarning, module='anndata')\n",
    "warnings.filterwarnings(\"ignore\", category=UserWarning, module='anndata')"
   ]
  },
  {
   "cell_type": "markdown",
   "id": "71fcbf52",
   "metadata": {},
   "source": [
    "# Below series of cells is run each time you want to generate new transition matrix solution set"
   ]
  },
  {
   "cell_type": "code",
   "execution_count": 2,
   "id": "b7825dc7",
   "metadata": {},
   "outputs": [
    {
     "name": "stderr",
     "output_type": "stream",
     "text": [
      "Generating 1000 matrices for Active Allele: 100%|█| 1000/1000 [00:02<00:00, 450.\n",
      "Generating 1000 matrices for Silent Allele: 100%|█| 1000/1000 [00:13<00:00, 74.7\n"
     ]
    }
   ],
   "source": [
    "### Generate solutions of transition matrices for the observed proportion sets derived from the HMM predictions ###\n",
    "\n",
    "## Provide the observed proportions of states ##\n",
    "# ORDER MATTERS #\n",
    "# Order is: Both accessible, Promoter only accessible, Neither Accessible, and Enhancer only accessible.\n",
    "observed_proportions_on = np.array([0.33, 0.19, 0.29, 0.19])\n",
    "observed_proportions_off = np.array([0.10, 0.04, 0.53, 0.33])\n",
    "\n",
    "## Define the variance threshold for a successful steady state solution of a transtion matrix ##\n",
    "variance_threshold = np.array([0.07, 0.07, 0.08, 0.07])\n",
    "\n",
    "transition_params = {\n",
    "    \"total_matrices\": 1000, # Number of solution matrices to find.\n",
    "    \"size\": 4, # Dimensions of the transition matrix (n x n).\n",
    "    \"allow_self_transitions\": True, # Whether self-transtions can occur\n",
    "    \"constrain_transitions_to_adjacent\": True # Whether to constrain transitions to only adjacent nodes.\n",
    "}\n",
    "\n",
    "## Solve for the solutions\n",
    "transition_matrix_solutions_on = smm.mm.generate_transition_matrix_solutions(observed_proportions_on, variance_threshold, \"Active Allele\", transition_params)\n",
    "transition_matrix_solutions_off = smm.mm.generate_transition_matrix_solutions(observed_proportions_off, variance_threshold, \"Silent Allele\", transition_params)\n"
   ]
  },
  {
   "cell_type": "code",
   "execution_count": 3,
   "id": "0f81b11b",
   "metadata": {},
   "outputs": [],
   "source": [
    "### Compile transition matrix solutions from each allele into a single AnnData object ###\n",
    "\n",
    "## The transition names corresponding to the flattened transition matrix\n",
    "transition_names = ['Both-Both', 'Both-Promoter_only', 'Both-Neither', 'Both-Enhancer_only', 'Promoter_only-Both', 'Promoter_only-Promoter_only', 'Promoter_only-Neither', 'Promoter_only-Enhancer_only', 'Neither-Both', 'Neither-Promoter_only', 'Neither-Neither', 'Neither-Enhancer_only', 'Enhancer_only-Both', 'Enhancer_only-Promoter_only', 'Enhancer_only-Neither', 'Enhancer_only-Enhancer_only']\n",
    "transition_names = [transition.replace('-', '_') for transition in transition_names]\n",
    "\n",
    "# Load adata for each condition\n",
    "adata_off = smm.mm.load_transitions_into_adata(transition_matrix_solutions_off, transition_names, \"Silent\")\n",
    "adata_on = smm.mm.load_transitions_into_adata(transition_matrix_solutions_on, transition_names, \"Active\")\n",
    "\n",
    "## Concatenate AnnData objects and save the corresponding transition matrix solutions in the unstructured portion of the AnnData\n",
    "adata = ad.concat([adata_off, adata_on])\n",
    "# Set obs columns to type 'category'\n",
    "for col in adata.obs.columns:\n",
    "    adata.obs[col] = adata.obs[col].astype('category')\n",
    "adata.obs_names_make_unique()\n",
    "adata.uns['Active_transition_matrices'] = transition_matrix_solutions_on\n",
    "adata.uns['Silent_transition_matrices'] = transition_matrix_solutions_off\n",
    "adata.uns['Transition_array_state_map'] = {k: v for v, k in enumerate(transition_names)}\n"
   ]
  },
  {
   "cell_type": "code",
   "execution_count": 4,
   "id": "4d9b197c",
   "metadata": {},
   "outputs": [
    {
     "ename": "AttributeError",
     "evalue": "module 'smfmodel.markov_models' has no attribute 'energy_dissipation'",
     "output_type": "error",
     "traceback": [
      "\u001b[0;31m---------------------------------------------------------------------------\u001b[0m",
      "\u001b[0;31mAttributeError\u001b[0m                            Traceback (most recent call last)",
      "Cell \u001b[0;32mIn[4], line 6\u001b[0m\n\u001b[1;32m      4\u001b[0m \u001b[38;5;28;01mfor\u001b[39;00m T \u001b[38;5;129;01min\u001b[39;00m adata\u001b[38;5;241m.\u001b[39muns[\u001b[38;5;124m'\u001b[39m\u001b[38;5;124mActive_transition_matrices\u001b[39m\u001b[38;5;124m'\u001b[39m]:\n\u001b[1;32m      5\u001b[0m     deviation \u001b[38;5;241m=\u001b[39m smm\u001b[38;5;241m.\u001b[39mmm\u001b[38;5;241m.\u001b[39mdetailed_balance_deviation(T)\n\u001b[0;32m----> 6\u001b[0m     dissipation \u001b[38;5;241m=\u001b[39m \u001b[43msmm\u001b[49m\u001b[38;5;241;43m.\u001b[39;49m\u001b[43mmm\u001b[49m\u001b[38;5;241;43m.\u001b[39;49m\u001b[43menergy_dissipation\u001b[49m(T)\n\u001b[1;32m      7\u001b[0m     adata\u001b[38;5;241m.\u001b[39muns[\u001b[38;5;124m'\u001b[39m\u001b[38;5;124mActive_allele_detailed_balance_deviations\u001b[39m\u001b[38;5;124m'\u001b[39m]\u001b[38;5;241m.\u001b[39mappend(deviation)\n\u001b[1;32m      8\u001b[0m     adata\u001b[38;5;241m.\u001b[39muns[\u001b[38;5;124m'\u001b[39m\u001b[38;5;124mActive_allele_dissipation\u001b[39m\u001b[38;5;124m'\u001b[39m]\u001b[38;5;241m.\u001b[39mappend(dissipation)\n",
      "\u001b[0;31mAttributeError\u001b[0m: module 'smfmodel.markov_models' has no attribute 'energy_dissipation'"
     ]
    }
   ],
   "source": [
    "## Append detailed balance deviations for the active allele solutions ##\n",
    "adata.uns['Active_allele_detailed_balance_deviations'] = []\n",
    "adata.uns['Active_allele_dissipation'] = []\n",
    "for T in adata.uns['Active_transition_matrices']:\n",
    "    deviation = smm.mm.detailed_balance_deviation(T)\n",
    "    dissipation = smm.mm.energy_dissipation(T)\n",
    "    adata.uns['Active_allele_detailed_balance_deviations'].append(deviation)\n",
    "    adata.uns['Active_allele_dissipation'].append(dissipation)\n",
    "    \n",
    "## Append detailed balance deviations for the silent allele solutions ##\n",
    "adata.uns['Silent_allele_detailed_balance_deviations'] = []\n",
    "adata.uns['Silent_allele_dissipation'] = []\n",
    "for T in adata.uns['Silent_transition_matrices']:\n",
    "    deviation= smm.mm.detailed_balance_deviation(T)\n",
    "    dissipation = smm.mm.energy_dissipation(T)\n",
    "    adata.uns['Silent_allele_detailed_balance_deviations'].append(deviation)\n",
    "    adata.uns['Active_allele_dissipation'].append(dissipation)\n",
    "\n",
    "all_deviations = adata.uns['Silent_allele_detailed_balance_deviations'] + adata.uns['Active_allele_detailed_balance_deviations']\n",
    "all_dissipations = adata.uns['Silent_allele_dissipation'] + adata.uns['Active_allele_dissipation']\n",
    "adata.obs['detailed_balance_deviation'] = all_deviations\n",
    "adata.obs['energy_dissipation'] = all_dissipations"
   ]
  },
  {
   "cell_type": "code",
   "execution_count": null,
   "id": "1507ad8f",
   "metadata": {},
   "outputs": [],
   "source": [
    "## Save the current AnnData object\n",
    "adata.write(\"mm_test_self_transitions_1k.h5ad.gz\", compression=\"gzip\")\n",
    "adata"
   ]
  },
  {
   "cell_type": "markdown",
   "id": "037bdc0e",
   "metadata": {},
   "source": [
    "# Start here if you already have an AnnData object containing the above analyses"
   ]
  },
  {
   "cell_type": "code",
   "execution_count": null,
   "id": "c56dc47d",
   "metadata": {},
   "outputs": [],
   "source": [
    "### Start from here if you already have an AnnData object\n",
    "adata = ad.read_h5ad(\"mm_test_self_transitions_1k.h5ad.gz\")"
   ]
  },
  {
   "cell_type": "code",
   "execution_count": null,
   "id": "0e762730",
   "metadata": {},
   "outputs": [],
   "source": [
    "transition_names = ['Both-Both', 'Both-Promoter_only', 'Both-Neither', 'Both-Enhancer_only', 'Promoter_only-Both', 'Promoter_only-Promoter_only', 'Promoter_only-Neither', 'Promoter_only-Enhancer_only', 'Neither-Both', 'Neither-Promoter_only', 'Neither-Neither', 'Neither-Enhancer_only', 'Enhancer_only-Both', 'Enhancer_only-Promoter_only', 'Enhancer_only-Neither', 'Enhancer_only-Enhancer_only']\n",
    "transition_names = [transition.replace('-', '_') for transition in transition_names]\n",
    "for i, transition in enumerate(transition_names):\n",
    "    adata.obs[f\"{transition}_obs\"] = adata.X[:,i]"
   ]
  },
  {
   "cell_type": "code",
   "execution_count": null,
   "id": "e0e6c3c4",
   "metadata": {},
   "outputs": [],
   "source": [
    "## Display the state transtion names ##\n",
    "adata.uns['Transition_array_state_map'].keys()"
   ]
  },
  {
   "cell_type": "code",
   "execution_count": null,
   "id": "b8b3688a",
   "metadata": {},
   "outputs": [],
   "source": [
    "adata.obs['condition'].cat.categories"
   ]
  },
  {
   "cell_type": "code",
   "execution_count": null,
   "id": "a594c429",
   "metadata": {},
   "outputs": [],
   "source": [
    "## Example 2D plot of the Promoter only -> Both, vs the Both -> Promoter only kinetics ##\n",
    "# Below is for the Active allele\n",
    "\n",
    "x_label = 'Both_Promoter_only'\n",
    "y_label = 'Promoter_only_Both'\n",
    "condition = 'Active'\n",
    "params = {'levels': 50,\n",
    "          'x_lower': -0.25,\n",
    "          'x_upper': 1.25,\n",
    "          'y_lower': -0.25,\n",
    "          'y_upper': 1.25,\n",
    "          'save': False}\n",
    "\n",
    "smm.pl.plot_2D_contour(adata, x_label, y_label, condition, params)"
   ]
  },
  {
   "cell_type": "code",
   "execution_count": null,
   "id": "d7da305f",
   "metadata": {},
   "outputs": [],
   "source": [
    "## Example 2D plot of the Promoter only -> Both, vs the Both -> Promoter only kinetics ##\n",
    "# Below is for the Silent allele\n",
    "\n",
    "x_label = 'Both_Promoter_only'\n",
    "y_label = 'Promoter_only_Both'\n",
    "condition = 'Silent'\n",
    "params = {'levels': 50,\n",
    "          'x_lower': -0.25,\n",
    "          'x_upper': 1.25,\n",
    "          'y_lower': -0.25,\n",
    "          'y_upper': 1.25,\n",
    "          'save': False}\n",
    "\n",
    "smm.pl.plot_2D_contour(adata, x_label, y_label, condition, params)"
   ]
  },
  {
   "cell_type": "code",
   "execution_count": null,
   "id": "509ef09d",
   "metadata": {},
   "outputs": [],
   "source": [
    "columns_to_plot = adata.obs.columns"
   ]
  },
  {
   "cell_type": "code",
   "execution_count": null,
   "id": "8999f523",
   "metadata": {},
   "outputs": [],
   "source": [
    "# Calculate PCA\n",
    "sc.tl.pca(adata)\n",
    "# Calculate neighborhood graph\n",
    "sc.pp.neighbors(adata)\n",
    "# Caclulate UMAP\n",
    "sc.tl.umap(adata)\n",
    "sc.pl.umap(adata, color=columns_to_plot)"
   ]
  },
  {
   "cell_type": "code",
   "execution_count": null,
   "id": "44802972",
   "metadata": {},
   "outputs": [],
   "source": [
    "adata.uns['neighbors']"
   ]
  },
  {
   "cell_type": "code",
   "execution_count": null,
   "id": "92fea8d2",
   "metadata": {},
   "outputs": [],
   "source": [
    "## Plot expression densities on UMAP ##\n",
    "sc.tl.embedding_density(adata, groupby='condition')\n",
    "sc.pl.embedding_density(adata, groupby='condition')"
   ]
  },
  {
   "cell_type": "code",
   "execution_count": null,
   "id": "4fb3537a",
   "metadata": {},
   "outputs": [],
   "source": [
    "# Calculate PCA\n",
    "sc.tl.pca(adata)\n",
    "sc.pl.pca(adata, show=True, color=columns_to_plot, cmap='coolwarm')"
   ]
  },
  {
   "cell_type": "code",
   "execution_count": null,
   "id": "7ffb2bdc",
   "metadata": {},
   "outputs": [],
   "source": [
    "## Plot expression densities on PCA ##\n",
    "sc.tl.embedding_density(adata, basis='pca', groupby='condition')\n",
    "sc.pl.embedding_density(adata, basis='pca', groupby='condition', color_map='viridis')"
   ]
  },
  {
   "cell_type": "code",
   "execution_count": null,
   "id": "73ffd9c9",
   "metadata": {},
   "outputs": [],
   "source": [
    "params = {'n_bins': 50,\n",
    "         'window_size': 2,\n",
    "         'show_bars': True,\n",
    "         'show_roll': True,\n",
    "         'color_palette': 'husl',\n",
    "         'labels': ['Active', 'Silent'],\n",
    "          'show_mean': True,\n",
    "          'show_cdf': False,\n",
    "         'save': False}\n",
    "\n",
    "a = adata.uns['Active_allele_detailed_balance_deviations']\n",
    "b = adata.uns['Silent_allele_detailed_balance_deviations']\n",
    "\n",
    "smm.pl.plot_hist([a, b], params)"
   ]
  },
  {
   "cell_type": "code",
   "execution_count": null,
   "id": "da14fcc7",
   "metadata": {},
   "outputs": [],
   "source": [
    "active_transitions = adata[adata.obs['condition'] == 'Active'].X.copy()\n",
    "silent_transitions = adata[adata.obs['condition'] == 'Silent'].X.copy()"
   ]
  },
  {
   "cell_type": "code",
   "execution_count": null,
   "id": "583459d8",
   "metadata": {},
   "outputs": [],
   "source": [
    "observed_distance, p_value = smm.stats.permutation_test(active_transitions, silent_transitions, apply_clr_transform=False, n_permutations=int(1e3))\n",
    "print(observed_distance, p_value)"
   ]
  },
  {
   "cell_type": "code",
   "execution_count": null,
   "id": "a49e38c0",
   "metadata": {},
   "outputs": [],
   "source": [
    "results = smm.stats.manova_test(active_transitions, silent_transitions, transition_names)"
   ]
  },
  {
   "cell_type": "code",
   "execution_count": null,
   "id": "dd54f973",
   "metadata": {},
   "outputs": [],
   "source": [
    "print(results)"
   ]
  },
  {
   "cell_type": "code",
   "execution_count": null,
   "id": "4713a86b",
   "metadata": {},
   "outputs": [],
   "source": [
    "anova_results = smm.stats.perform_anovas(active_transitions, silent_transitions, transition_names)"
   ]
  },
  {
   "cell_type": "code",
   "execution_count": null,
   "id": "017e7f52",
   "metadata": {},
   "outputs": [],
   "source": [
    "corrected_pvals = smm.stats.apply_bonferroni_correction(anova_results)"
   ]
  },
  {
   "cell_type": "code",
   "execution_count": null,
   "id": "e25ad2ac",
   "metadata": {},
   "outputs": [],
   "source": [
    "for class_name, corrected_pval in corrected_pvals.items():\n",
    "    print(f\"Corrected p-value for {class_name}: {corrected_pval}\")"
   ]
  },
  {
   "cell_type": "code",
   "execution_count": null,
   "id": "e8cb4422",
   "metadata": {},
   "outputs": [],
   "source": [
    "for class_name, result in anova_results.items():\n",
    "    print(f\"ANOVA result for {class_name}:\\n{result}\\n\")"
   ]
  },
  {
   "cell_type": "code",
   "execution_count": null,
   "id": "f493c059",
   "metadata": {},
   "outputs": [],
   "source": []
  }
 ],
 "metadata": {
  "kernelspec": {
   "display_name": "smm-0.1.0",
   "language": "python",
   "name": "venv-smm-0.1.0"
  },
  "language_info": {
   "codemirror_mode": {
    "name": "ipython",
    "version": 3
   },
   "file_extension": ".py",
   "mimetype": "text/x-python",
   "name": "python",
   "nbconvert_exporter": "python",
   "pygments_lexer": "ipython3",
   "version": "3.9.12"
  }
 },
 "nbformat": 4,
 "nbformat_minor": 5
}
