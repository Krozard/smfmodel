{
 "cells": [
  {
   "cell_type": "code",
   "execution_count": null,
   "id": "c4b44494",
   "metadata": {},
   "outputs": [],
   "source": [
    "import numpy as np\n",
    "import anndata as ad\n",
    "import scanpy as sc\n",
    "import smfmodel as smm\n",
    "import warnings\n",
    "warnings.filterwarnings(\"ignore\", category=FutureWarning, module='anndata')\n",
    "warnings.filterwarnings(\"ignore\", category=UserWarning, module='anndata')"
   ]
  },
  {
   "cell_type": "markdown",
   "id": "71fcbf52",
   "metadata": {},
   "source": [
    "# Below series of cells is run each time you want to generate new transition matrix solution set"
   ]
  },
  {
   "cell_type": "code",
   "execution_count": null,
   "id": "b7825dc7",
   "metadata": {},
   "outputs": [],
   "source": [
    "### Generate solutions of transition matrices for the observed proportion sets derived from the HMM predictions ###\n",
    "\n",
    "## Provide the observed proportions of states ##\n",
    "# ORDER MATTERS #\n",
    "# Order is: Both accessible, Promoter only accessible, Neither Accessible, and Enhancer only accessible.\n",
    "observed_proportions_on = np.array([0.33, 0.19, 0.29, 0.19])\n",
    "observed_proportions_off = np.array([0.10, 0.04, 0.53, 0.33])\n",
    "\n",
    "## Define the variance threshold for a successful steady state solution of a transtion matrix ##\n",
    "variance_threshold = np.array([0.07, 0.07, 0.08, 0.07])\n",
    "\n",
    "transition_params = {\n",
    "    \"total_matrices\": 1000, # Number of solution matrices to find.\n",
    "    \"size\": 4, # Dimensions of the transition matrix (n x n).\n",
    "    \"allow_self_transitions\": False, # Whether self-transtions can occur\n",
    "    \"constrain_transitions_to_adjacent\": True # Whether to constrain transitions to only adjacent nodes.\n",
    "}\n",
    "\n",
    "## Solve for the solutions\n",
    "transition_matrix_solutions_on = smm.mm.generate_transition_matrix_solutions(observed_proportions_on, variance_threshold, \"Active Allele\", transition_params)\n",
    "transition_matrix_solutions_off = smm.mm.generate_transition_matrix_solutions(observed_proportions_off, variance_threshold, \"Silent Allele\", transition_params)\n"
   ]
  },
  {
   "cell_type": "code",
   "execution_count": null,
   "id": "0f81b11b",
   "metadata": {},
   "outputs": [],
   "source": [
    "### Compile transition matrix solutions from each allele into a single AnnData object ###\n",
    "\n",
    "## The transition names corresponding to the flattened transition matrix\n",
    "transition_names = ['Both-Both', 'Both-Promoter_only', 'Both-Neither', 'Both-Enhancer_only', 'Promoter_only-Both', 'Promoter_only-Promoter_only', 'Promoter_only-Neither', 'Promoter_only-Enhancer_only', 'Neither-Promoter_only', 'Neither-Both', 'neither-Neither', 'Neither-Enhancer_only', 'Enhancer_only-Both', 'Enhancer_only-Promoter_only', 'Enhancer_only-Neither', 'Enhancer_only-Enhancer_only']\n",
    "\n",
    "# Load adata for each condition\n",
    "adata_off = smm.mm.load_transitions_into_adata(transition_matrix_solutions_off, transition_names, \"Silent\")\n",
    "adata_on = smm.mm.load_transitions_into_adata(transition_matrix_solutions_on, transition_names, \"Active\")\n",
    "\n",
    "## Concatenate AnnData objects and save the corresponding transition matrix solutions in the unstructured portion of the AnnData\n",
    "adata = ad.concat([adata_off, adata_on])\n",
    "# Set obs columns to type 'category'\n",
    "for col in adata.obs.columns:\n",
    "    adata.obs[col] = adata.obs[col].astype('category')\n",
    "adata.obs_names_make_unique()\n",
    "adata.uns['Active_transition_matrices'] = transition_matrix_solutions_on\n",
    "adata.uns['Silent_transition_matrices'] = transition_matrix_solutions_off\n",
    "adata.uns['Transition_array_state_map'] = {k: v for v, k in enumerate(transition_names)}\n"
   ]
  },
  {
   "cell_type": "code",
   "execution_count": null,
   "id": "4d9b197c",
   "metadata": {},
   "outputs": [],
   "source": [
    "## Append detailed balance deviations for the active allele solutions ##\n",
    "adata.uns['Active_allele_detailed_balance_all_deviations'] = []\n",
    "adata.uns['Active_allele_detailed_balance_mean_deviations'] = []\n",
    "adata.uns['Active_allele_detailed_balance_sum_deviations'] = []\n",
    "adata.uns['Active_allele_dissipation'] = []\n",
    "for T in transition_matrix_solutions_on:\n",
    "    deviations, sum_deviations, max_deviation, mean_deviation = smm.mm.detailed_balance_deviation(T)\n",
    "    adata.uns['Active_allele_detailed_balance_all_deviations'].append(deviations)\n",
    "    adata.uns['Active_allele_detailed_balance_mean_deviations'].append(mean_deviation)\n",
    "    adata.uns['Active_allele_detailed_balance_sum_deviations'].append(sum_deviations)\n",
    "    \n",
    "## Append detailed balance deviations for the silent allele solutions ##\n",
    "adata.uns['Silent_allele_detailed_balance_all_deviations'] = []\n",
    "adata.uns['Silent_allele_detailed_balance_mean_deviations'] = []\n",
    "adata.uns['Silent_allele_detailed_balance_sum_deviations'] = []\n",
    "adata.uns['Silent_allele_dissipation'] = []\n",
    "for T in transition_matrix_solutions_off:\n",
    "    deviations, sum_deviations, max_deviation, mean_deviation = smm.mm.detailed_balance_deviation(T)\n",
    "    adata.uns['Silent_allele_detailed_balance_all_deviations'].append(deviations)\n",
    "    adata.uns['Silent_allele_detailed_balance_mean_deviations'].append(mean_deviation)\n",
    "    adata.uns['Silent_allele_detailed_balance_sum_deviations'].append(sum_deviations)"
   ]
  },
  {
   "cell_type": "code",
   "execution_count": null,
   "id": "1507ad8f",
   "metadata": {},
   "outputs": [],
   "source": [
    "## Save the current AnnData object\n",
    "adata.write(\"mm_test_no_self_transitions.h5ad.gz\", compression=\"gzip\")\n",
    "adata"
   ]
  },
  {
   "cell_type": "markdown",
   "id": "037bdc0e",
   "metadata": {},
   "source": [
    "# Start here if you already have an AnnData object containing the above analyses"
   ]
  },
  {
   "cell_type": "code",
   "execution_count": null,
   "id": "c56dc47d",
   "metadata": {},
   "outputs": [],
   "source": [
    "### Start from here if you already have an AnnData object\n",
    "import anndata as ad\n",
    "import scanpy as sc\n",
    "adata = ad.read_h5ad(\"mm_test.h5ad.gz\")"
   ]
  },
  {
   "cell_type": "code",
   "execution_count": null,
   "id": "e0e6c3c4",
   "metadata": {},
   "outputs": [],
   "source": [
    "## Display the state transtion names ##\n",
    "adata.uns['Transition_array_state_map'].keys()"
   ]
  },
  {
   "cell_type": "code",
   "execution_count": null,
   "id": "b8b3688a",
   "metadata": {},
   "outputs": [],
   "source": [
    "adata.obs['condition'].cat.categories"
   ]
  },
  {
   "cell_type": "code",
   "execution_count": null,
   "id": "a594c429",
   "metadata": {},
   "outputs": [],
   "source": [
    "## Example 2D plot of the Promoter only -> Both, vs the Both -> Promoter only kinetics ##\n",
    "# Below is for the Active allele\n",
    "\n",
    "x_label = 'Both-Promoter_only'\n",
    "y_label = 'Promoter_only-Both'\n",
    "condition = 'Active'\n",
    "params = {'levels': 25,\n",
    "          'x_lower': -0.5,\n",
    "          'x_upper': 1.25,\n",
    "          'y_lower': -0.5,\n",
    "          'y_upper': 1.5,\n",
    "          'save': False}\n",
    "\n",
    "smm.pl.plot_2D_contour(adata, x_label, y_label, condition, params)"
   ]
  },
  {
   "cell_type": "code",
   "execution_count": null,
   "id": "d7da305f",
   "metadata": {},
   "outputs": [],
   "source": [
    "## Example 2D plot of the Promoter only -> Both, vs the Both -> Promoter only kinetics ##\n",
    "# Below is for the Silent allele\n",
    "\n",
    "x_label = 'Both-Promoter_only'\n",
    "y_label = 'Promoter_only-Both'\n",
    "condition = 'Silent'\n",
    "params = {'levels': 25,\n",
    "          'x_lower': -0.5,\n",
    "          'x_upper': 1.25,\n",
    "          'y_lower': -0.5,\n",
    "          'y_upper': 1.5,\n",
    "          'save': False}\n",
    "\n",
    "smm.pl.plot_2D_contour(adata, x_label, y_label, condition, params)"
   ]
  },
  {
   "cell_type": "code",
   "execution_count": null,
   "id": "8999f523",
   "metadata": {},
   "outputs": [],
   "source": [
    "# Calculate PCA\n",
    "sc.tl.pca(adata)\n",
    "# Calculate neighborhood graph\n",
    "sc.pp.neighbors(adata, n_neighbors=15, use_rep='X_pca')\n",
    "# Caclulate UMAP\n",
    "sc.tl.umap(adata)\n",
    "sc.pl.umap(adata, color='condition')"
   ]
  },
  {
   "cell_type": "code",
   "execution_count": null,
   "id": "92fea8d2",
   "metadata": {},
   "outputs": [],
   "source": [
    "## Plot expression densities on UMAP ##\n",
    "sc.tl.embedding_density(adata, groupby='condition')\n",
    "sc.pl.embedding_density(adata, groupby='condition')"
   ]
  },
  {
   "cell_type": "code",
   "execution_count": null,
   "id": "4fb3537a",
   "metadata": {},
   "outputs": [],
   "source": [
    "# Calculate PCA\n",
    "sc.tl.pca(adata)\n",
    "sc.pl.pca(adata, show=True, color='condition')"
   ]
  },
  {
   "cell_type": "code",
   "execution_count": null,
   "id": "7ffb2bdc",
   "metadata": {},
   "outputs": [],
   "source": [
    "## Plot expression densities on PCA ##\n",
    "sc.tl.embedding_density(adata, basis='pca', groupby='condition')\n",
    "sc.pl.embedding_density(adata, basis='pca', groupby='condition', color_map='viridis')"
   ]
  },
  {
   "cell_type": "code",
   "execution_count": null,
   "id": "73ffd9c9",
   "metadata": {},
   "outputs": [],
   "source": [
    "params = {'n_bins': 50,\n",
    "         'window_size': 2,\n",
    "         'show_bars': True,\n",
    "         'show_roll': True,\n",
    "         'color_palette': 'husl',\n",
    "         'labels': ['Active', 'Silent'],\n",
    "          'show_mean': True,\n",
    "          'show_cdf': False,\n",
    "         'save': False}\n",
    "\n",
    "a = adata.uns['Active_allele_detailed_balance_mean_deviations']\n",
    "b = adata.uns['Silent_allele_detailed_balance_mean_deviations']\n",
    "\n",
    "smm.pl.plot_hist([a, b], params)"
   ]
  },
  {
   "cell_type": "code",
   "execution_count": null,
   "id": "c467b442",
   "metadata": {},
   "outputs": [],
   "source": [
    "a = adata.uns['Active_allele_detailed_balance_sum_deviations']\n",
    "b = adata.uns['Silent_allele_detailed_balance_sum_deviations']\n",
    "smm.pl.plot_hist([a, b], params)"
   ]
  },
  {
   "cell_type": "code",
   "execution_count": null,
   "id": "60983348",
   "metadata": {},
   "outputs": [],
   "source": []
  }
 ],
 "metadata": {
  "kernelspec": {
   "display_name": "smfmodel-0.1.0",
   "language": "python",
   "name": "venv-0.1.0"
  },
  "language_info": {
   "codemirror_mode": {
    "name": "ipython",
    "version": 3
   },
   "file_extension": ".py",
   "mimetype": "text/x-python",
   "name": "python",
   "nbconvert_exporter": "python",
   "pygments_lexer": "ipython3",
   "version": "3.9.12"
  }
 },
 "nbformat": 4,
 "nbformat_minor": 5
}
